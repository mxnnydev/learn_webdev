{
 "cells": [
  {
   "cell_type": "markdown",
   "id": "9a8b2fe2",
   "metadata": {},
   "source": [
    "Flexbox"
   ]
  }
 ],
 "metadata": {
  "language_info": {
   "name": "python"
  }
 },
 "nbformat": 4,
 "nbformat_minor": 5
}
