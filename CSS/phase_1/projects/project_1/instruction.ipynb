{
 "cells": [
  {
   "cell_type": "markdown",
   "id": "e99952c4",
   "metadata": {},
   "source": [
    "# 🧪 Project 1: Redesign Your HTML Landing Page\n",
    "\n",
    "Goal: Apply styles (colors, fonts, spacing, layout) to a basic SaaS product landing page.\n",
    "\n",
    "🔧 HTML Skeleton:"
   ]
  },
  {
   "cell_type": "markdown",
   "id": "b8db609e",
   "metadata": {},
   "source": [
    "```html\n",
    "<!DOCTYPE html>\n",
    "<html lang=\"en\">\n",
    "<head>\n",
    "  <meta charset=\"UTF-8\" />\n",
    "  <meta name=\"viewport\" content=\"width=device-width, initial-scale=1.0\" />\n",
    "  <title>Your SaaS Product</title>\n",
    "  <link rel=\"stylesheet\" href=\"style.css\" />\n",
    "</head>\n",
    "<body>\n",
    "\n",
    "  <header>\n",
    "    <h1>FitSnap AI</h1>\n",
    "    <p>The smartest fitness tracking tool for personal trainers.</p>\n",
    "  </header>\n",
    "\n",
    "  <nav>\n",
    "    <ul>\n",
    "      <li><a href=\"#\">Features</a></li>\n",
    "      <li><a href=\"#\">Pricing</a></li>\n",
    "      <li><a href=\"#\">Login</a></li>\n",
    "    </ul>\n",
    "  </nav>\n",
    "\n",
    "  <section>\n",
    "    <h2>Top Features</h2>\n",
    "    <ul>\n",
    "      <li>AI Workout Analysis</li>\n",
    "      <li>Client Check-In Reminders</li>\n",
    "      <li>Progress Reports</li>\n",
    "    </ul>\n",
    "  </section>\n",
    "\n",
    "  <section>\n",
    "    <h2>How It Works</h2>\n",
    "    <ol>\n",
    "      <li>Sign up</li>\n",
    "      <li>Connect with your clients</li>\n",
    "      <li>Track their progress effortlessly</li>\n",
    "    </ol>\n",
    "  </section>\n",
    "\n",
    "  <footer>\n",
    "    <p>&copy; 2025 FitSnap AI</p>\n",
    "  </footer>\n",
    "\n",
    "</body>\n",
    "</html>\n",
    "```"
   ]
  }
 ],
 "metadata": {
  "language_info": {
   "name": "python"
  }
 },
 "nbformat": 4,
 "nbformat_minor": 5
}
